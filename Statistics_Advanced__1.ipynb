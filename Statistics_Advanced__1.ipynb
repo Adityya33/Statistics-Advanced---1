{
  "nbformat": 4,
  "nbformat_minor": 0,
  "metadata": {
    "colab": {
      "provenance": []
    },
    "kernelspec": {
      "name": "python3",
      "display_name": "Python 3"
    },
    "language_info": {
      "name": "python"
    }
  },
  "cells": [
    {
      "cell_type": "markdown",
      "source": [
        "# Theoretical questions\n"
      ],
      "metadata": {
        "id": "Pr84SdSi6zCv"
      }
    },
    {
      "cell_type": "markdown",
      "source": [
        "1. What is a random variable in probability theory?\n",
        "- A random variable is a numerical quantity whose value depends on the outcome of a random experiment.\n",
        "  2.  What are the types of random variables?\n",
        "    - Types of Random Variables:\n",
        "     1. Discrete Random Variable\n",
        "      - Takes on a finite or countable number of values.\n",
        "      - Example: Number of heads in 3 coin tosses (possible values: 0, 1, 2, 3)\n",
        "     2. Continuous Random Variable\n",
        "      - Takes on infinitely many values within a given interval.\n",
        "      - Example: Time it takes to load a webpage (e.g., 1.53 seconds, 1.54 seconds, etc.)\n",
        "3. Explain the difference between discrete and continuous distributions.\n",
        "   - Discrete distributions deal with countable, separate values, while continuous distributions handle variables that can take on any value within a given range. Think of discrete as \"counting\" and continuous as \"measuring\".\n",
        "4. What is a binomial distribution, and how is it used in probability?\n",
        "   - The binomial distribution is a discrete probability distribution that models the number of successes in a fixed number of independent trials, where each trial has only two possible outcomes: success or failure.\n",
        "5. What is the standard normal distribution, and why is it important?\n",
        "   - The standard normal distribution is a special case of the normal distribution, which is a continuous, bell-shaped distribution that is symmetric around its mean.\n",
        "     -  Why Is It Important?\n",
        "      1. Standardization of data:\n",
        "       - Any normal distribution can be converted into a standard normal distribution using the Z-score formula\n",
        "      2. Simplifies probability calculations:\n",
        "       - Once data is standardized, we can use Z-tables or statistical software to quickly find probabilities or percentiles.\n",
        "      3. Foundation for statistical inference:\n",
        "       - Many statistical tests and confidence intervals assume or rely on the standard normal distribution.\n",
        "6. What is the Central Limit Theorem (CLT), and why is it critical in statistics?\n",
        "   - The Central Limit Theorem (CLT) is one of the most important concepts in statistics. It states that:\n",
        "   \"\" When you take a sufficiently large number of random samples from any population (with a finite mean and variance), the distribution of the sample means will approximate a normal distribution—regardless of the shape of the original population. \"\"\n",
        "7. What is the significance of confidence intervals in statistical analysis?\n",
        "   -  A confidence interval gives an estimated range that is likely to contain the true population value, along with a confidence level (e.g., 95%).\n",
        "   - For example:-\"We are 95% confident that the true average height is between 165 cm and 175 cm.\"\n",
        "8. What is the concept of expected value in a probability distribution?\n",
        "   - The expected value (EV), also known as the mean of a probability distribution, is a measure of the central tendency — the long-run average outcome you would expect if an experiment were repeated many times.\n",
        "\n",
        "  "
      ],
      "metadata": {
        "id": "AlyAgOjq66Vz"
      }
    },
    {
      "cell_type": "code",
      "execution_count": 1,
      "metadata": {
        "colab": {
          "base_uri": "https://localhost:8080/",
          "height": 507
        },
        "id": "5RUZz_tu6mKM",
        "outputId": "424a74ea-9321-47de-c80c-a785fdad71ba"
      },
      "outputs": [
        {
          "output_type": "stream",
          "name": "stdout",
          "text": [
            "Sample Mean: 49.93\n",
            "Sample Standard Deviation: 5.27\n"
          ]
        },
        {
          "output_type": "display_data",
          "data": {
            "text/plain": [
              "<Figure size 640x480 with 1 Axes>"
            ],
            "image/png": "[encoded data removed]"
          },
          "metadata": {}
        }
      ],
      "source": [
        "#9. Write a Python program to generate 1000 random numbers from a normal distribution with mean = 50 and standard deviation = 5. Compute its mean and standard deviation using NumPy, and draw a histogram to visualize the distribution.\n",
        "import numpy as np\n",
        "import matplotlib.pyplot as plt\n",
        "\n",
        "data = np.random.normal(loc=50, scale=5, size=1000)\n",
        "\n",
        "mean = np.mean(data)\n",
        "std_dev = np.std(data)\n",
        "\n",
        "print(f\"Sample Mean: {mean:.2f}\")\n",
        "print(f\"Sample Standard Deviation: {std_dev:.2f}\")\n",
        "\n",
        "plt.hist(data, bins=30, color='skyblue', edgecolor='black', density=True)\n",
        "plt.title('Histogram of Normally Distributed Data (μ=50, σ=5)')\n",
        "plt.xlabel('Value')\n",
        "plt.ylabel('Density')\n",
        "\n",
        "plt.show()\n"
      ]
    },
    {
      "cell_type": "code",
      "source": [
        "#10 You are working as a data analyst for a retail company. The company has collected daily sales data for 2 years and wants you to identify the overall sales trend.\n",
        "daily_sales = [220, 245, 210, 265, 230, 250, 260, 275, 240, 255, 235, 260, 245, 250, 225, 270, 265, 255, 250, 260]\n",
        "#● Explain how you would apply the Central Limit Theorem to estimate the average sales with a 95% confidence interval.\n",
        "#● Write the Python code to compute the mean sales and its confidence interval.\n",
        "\"\"\"Step-by-Step Explanation Using the Central Limit Theorem (CLT):\n",
        "1. CLT Assumption:\n",
        "The Central Limit Theorem states that the sampling distribution of the mean will be approximately normal if the sample size is large enough or if the population is normal.\n",
        "\n",
        "2. Estimate Population Mean:\n",
        "We will use the sample mean as an estimate of the population mean.\n",
        "\n",
        "3. Calculate Standard Error (SE):\n",
        "The SE is the standard deviation of the sample divided by the square root of the sample size.\n",
        "\n",
        "4.Compute Margin of Error (ME) for 95% confidence:\n",
        "Use the t-distribution (since population standard deviation is unknown and sample is small).\n",
        "ME=t∗⋅SE\n",
        "5.Confidence Interval:\n",
        "\n",
        "CI = Sample Mean±Margin of Error\"\"\"\n",
        "import numpy as np\n",
        "from scipy import stats\n",
        "\n",
        "daily_sales = [220, 245, 210, 265, 230, 250, 260, 275, 240, 255,\n",
        "               235, 260, 245, 250, 225, 270, 265, 255, 250, 260]\n",
        "\n",
        "sample_mean = np.mean(daily_sales)\n",
        "sample_std = np.std(daily_sales, ddof=1)\n",
        "n = len(daily_sales)\n",
        "standard_error = sample_std / np.sqrt(n)\n",
        "\n",
        "confidence_level = 0.95\n",
        "t_critical = stats.t.ppf((1 + confidence_level) / 2, df=n-1)\n",
        "\n",
        "margin_of_error = t_critical * standard_error\n",
        "\n",
        "lower_bound = sample_mean - margin_of_error\n",
        "upper_bound = sample_mean + margin_of_error\n",
        "\n",
        "print(f\"Sample Mean: {sample_mean:.2f}\")\n",
        "print(f\"95% Confidence Interval: ({lower_bound:.2f}, {upper_bound:.2f})\")\n"
      ],
      "metadata": {
        "colab": {
          "base_uri": "https://localhost:8080/"
        },
        "id": "o99YSWH8_bn-",
        "outputId": "81eccce8-bd66-43ca-933b-6cfea5f37ba6"
      },
      "execution_count": 2,
      "outputs": [
        {
          "output_type": "stream",
          "name": "stdout",
          "text": [
            "Sample Mean: 248.25\n",
            "95% Confidence Interval: (240.17, 256.33)\n"
          ]
        }
      ]
    },
    {
      "cell_type": "code",
      "source": [],
      "metadata": {
        "id": "ONh5B9zvAz9X"
      },
      "execution_count": null,
      "outputs": []
    }
  ]
}